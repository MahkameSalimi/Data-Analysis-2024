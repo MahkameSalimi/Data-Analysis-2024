{
 "cells": [
  {
   "cell_type": "code",
   "execution_count": 42,
   "id": "a4d5b584",
   "metadata": {},
   "outputs": [
    {
     "name": "stdout",
     "output_type": "stream",
     "text": [
      "Python version: 3.9.13 (tags/v3.9.13:6de2ca5, May 17 2022, 16:36:42) [MSC v.1929 64 bit (AMD64)]\n",
      "NumPy version: 1.23.5\n",
      "Matplotlib version: 3.4.2\n",
      "SciPy version: 1.9.1\n",
      "Pandas version: 1.5.3\n"
     ]
    }
   ],
   "source": [
    "# #Please DO NOT RUN! This is for printing versions of my packages.\n",
    "# import sys  # Import sys to get Python version\n",
    "# import matplotlib\n",
    "# import scipy\n",
    "# import pandas\n",
    "\n",
    "# # Print the version of each package\n",
    "# print(\"Python version:\", sys.version)\n",
    "# print(\"NumPy version:\", np.__version__)\n",
    "# print(\"Matplotlib version:\",matplotlib.__version__)\n",
    "# print(\"SciPy version:\", scipy.__version__)\n",
    "# print(\"Pandas version:\", pandas.__version__)"
   ]
  },
  {
   "cell_type": "markdown",
   "id": "e4c033b6",
   "metadata": {},
   "source": [
    "### Package Versions\n",
    "\n",
    "- **Python version**: `3.9.13`\n",
    "- **NumPy version**: `1.23.5`\n",
    "- **Matplotlib version**: `3.4.2`\n",
    "- **SciPy version**: `1.9.1`\n",
    "- **Pandas version**: `1.5.3`\n",
    "\n"
   ]
  },
  {
   "cell_type": "code",
   "execution_count": 52,
   "id": "fffead6b",
   "metadata": {},
   "outputs": [],
   "source": [
    "# Import the necessary libraries\n",
    "import numpy as np # For calculations\n",
    "import matplotlib.pyplot as plt # For plotting \n",
    "from scipy.optimize import curve_fit # For curve fitting\n",
    "from matplotlib.ticker import (MultipleLocator, FormatStrFormatter,AutoMinorLocator) #make plot nicer\n",
    "import pandas as pd # For reading the data\n",
    "import os #For flexible path way to data"
   ]
  },
  {
   "cell_type": "markdown",
   "id": "56636825",
   "metadata": {},
   "source": [
    "First, I start with reading the data file using panda package. Then I calculate the error of dependent data point $y$ using the $e_i = \\sqrt{y_i}$."
   ]
  },
  {
   "cell_type": "code",
   "execution_count": 53,
   "id": "c560b2be",
   "metadata": {},
   "outputs": [
    {
     "name": "stdout",
     "output_type": "stream",
     "text": [
      "x = [0. 1. 2. 3. 4.]\n",
      "y= [25 36 64 49 81]\n",
      "errors of y =  [5. 6. 8. 7. 9.]\n"
     ]
    }
   ],
   "source": [
    "# Define the path in a more flexible way\n",
    "root_folder = os.getcwd()\n",
    "data_file = os.path.join(root_folder, 'photon_exp.dat')\n",
    "#Read data file using pandas package\n",
    "data = pd.read_csv(data_file, delim_whitespace=True)\n",
    "\n",
    "# Extract the (x) and (y)\n",
    "x = data['X'].values\n",
    "y = data['Y'].values\n",
    "\n",
    "#Calculate error of y as sqrt(y)\n",
    "e_y = np.sqrt(y)\n",
    "print( \"x =\", x)\n",
    "print(\"y=\", y)\n",
    "print(\"errors of y = \", e_y)"
   ]
  },
  {
   "cell_type": "markdown",
   "id": "9d8220c0",
   "metadata": {},
   "source": [
    "**Section a)**\n",
    "\n",
    "to find the best-fit parameters $a$ and $b$ for the line $y=bx+a$, I use `curve-fit` function in `scipy` package. I use the linear model  $y=bx+a$ to fit a line ito my data. The output of the `curve-fit` function give me the best parameters  $a$ and $b$, and the covariance matrix of calculating each parameter\n",
    "$$\n",
    "\\operatorname{cov} =\n",
    "\\begin{pmatrix}\n",
    "\\sigma^2_a & \\operatorname{cov}[a,b] \\\\\n",
    "\\operatorname{cov}[b,a] & \\sigma^2_b\n",
    "\\end{pmatrix}.\n",
    "$$\n",
    "\n",
    "Here the diagonal elemts of the matrix are the variance of each parameters that can be shown as\n",
    "$$\n",
    "\\operatorname{diag} = \n",
    "[\\sigma^2_a, \\sigma^2_b]\n",
    "$$\n",
    "that can be calculated using `np.diag()`.\n",
    "\n",
    "The standard deviation of each parameter is \n",
    "$\n",
    "\\sigma_a = \\sqrt{\\sigma^2_a}, \\sigma_b = \\sqrt{\\sigma^2_b}.\n",
    "$\n",
    "\n",
    "The correlation function is defined as\n",
    "$$\n",
    "r :=\\frac{ \\operatorname{cov}[a,b]}{\\left(\\sigma_a\\times\\sigma_b\\right)}.\n",
    "$$"
   ]
  },
  {
   "cell_type": "code",
   "execution_count": 47,
   "id": "9b945318",
   "metadata": {},
   "outputs": [
    {
     "name": "stdout",
     "output_type": "stream",
     "text": [
      "Best-fit parameters:\n",
      "a = 25.44 ± 4.26\n",
      "b = 12.06 ± 2.11\n",
      "r = -0.72\n"
     ]
    }
   ],
   "source": [
    "# Define the linear model y = a + bx\n",
    "def linear_model(x, a, b):\n",
    "    return a + b * x\n",
    "\n",
    "# Perform the curve fitting\n",
    "parameters, cov = curve_fit(linear_model, x, y, sigma=e_y, absolute_sigma=True) #The values of sigma (the errors) are treated as absolute uncertainties in the curve fitting. \n",
    "a, b =parameters  # best-fit parameters\n",
    "sigma_a, sigma_b = np.sqrt(np.diag(cov))  # standard errors for a and b\n",
    "# Calculate the correlation coefficient\n",
    "cov_ab = cov[0, 1]  # covariance of a and b\n",
    "correlation_coefficient = cov_ab / (sigma_a * sigma_b)\n",
    "# Print the best-fit parameters with their errors\n",
    "print(f\"Best-fit parameters:\")\n",
    "print(f\"a = {a:.2f} ± {sigma_a:.2f}\")\n",
    "print(f\"b = {b:.2f} ± {sigma_b:.2f}\")\n",
    "#print correlation coeficient\n",
    "print(f\"r = {correlation_coefficient:.2f}\")"
   ]
  },
  {
   "cell_type": "markdown",
   "id": "bbf3d663",
   "metadata": {},
   "source": [
    "Correlation coeficiant $(r = -0.72)$ means that the two variables have a strong inverse (negative) relationship, as one variable increases the other decreases."
   ]
  },
  {
   "cell_type": "markdown",
   "id": "403e933a",
   "metadata": {},
   "source": [
    "**Section b)**\n",
    "\n",
    "$\\chi^2$ is a measure of how well the model fits the data, specifically in the presence of uncertainties data, and the smaller the value of $\\chi^2$, the better the fit.\n",
    "$\\chi^2$ is calculated by\n",
    "$$\n",
    "\\chi^2 := \\sum_{i=1}^{n} \\left( \\frac{y_i - f(x_i)}{\\sigma_i} \\right)^2 =\\sum_{i=1}^{n} \\left( \\frac{y_i - b x_i -a}{\\sigma_i} \\right)^2,\n",
    "$$\n",
    "here we call the numerator as the $\\text{residual}= \\left(y_i - b x_i -a\\right)$.\n",
    "\n",
    "\n",
    "$\\text{R}^2$ tells us how much of the variance in the dependent variable is explained by the independent variables. the formula of $\\text{R}^2$ is\n",
    "$$\n",
    "R^2 := 1 - \\frac{\\sum_{i=1}^{n} (y_i -  b x_i -a)^2}{\\sum_{i=1}^{n} (y_i - \\bar{y})^2},\n",
    "$$\n",
    "where $\\bar{y} := \\sum_{i=1}^{n} y_i$ is the mean value of variable $y$."
   ]
  },
  {
   "cell_type": "code",
   "execution_count": 46,
   "id": "fd383eaa",
   "metadata": {},
   "outputs": [
    {
     "name": "stdout",
     "output_type": "stream",
     "text": [
      "χ² = 7.24\n",
      "R² = 0.79\n"
     ]
    }
   ],
   "source": [
    "# Calculate the residuals as the list \n",
    "residuals = y - linear_model(x, *parameters)\n",
    "\n",
    "# Calculate the chi-squared\n",
    "chi_squared = np.sum((residuals / e_y) ** 2)\n",
    "\n",
    "# Calculate the coefficient of determination\n",
    "numerator = np.sum(residuals ** 2)\n",
    "denominator = np.sum((y - np.mean(y)) ** 2)\n",
    "r_squared = 1 - (numerator  / denominator)\n",
    "#print the results\n",
    "print(f\"χ² = {chi_squared:.2f}\")\n",
    "print(f\"R² = {r_squared:.2f}\")"
   ]
  },
  {
   "cell_type": "markdown",
   "id": "ef522eb2",
   "metadata": {},
   "source": [
    "For a good fit we expect $\\chi^2 \\approx n-p$ which $n = 5$ is the number of data points and $p = 2$ is the number of the parameter. So we expect $\\chi^2 \\approx 3$ for a good fit but here we have approximately $7$ and the reduced  $\\chi^2$ is $\\frac{7.24}{3} = 2.33$ means the fit is not great as this value is greater than 1.\n",
    "It indicates that the model does not perfectly fit the data. It could indicate that the data is more scattered than the model predicts.\n",
    "\n",
    "\n",
    "The $R^2$ value indicates that approximately $79\\% $of the variation in the dependent variable (y) can be explained by the independent variable (x). The remaining $11%$ of the variation is due to other factors not accounted for by the model. The closer $R^2$ is to 1, the better the model explains the data."
   ]
  }
 ],
 "metadata": {
  "kernelspec": {
   "display_name": "Python 3 (ipykernel)",
   "language": "python",
   "name": "python3"
  },
  "language_info": {
   "codemirror_mode": {
    "name": "ipython",
    "version": 3
   },
   "file_extension": ".py",
   "mimetype": "text/x-python",
   "name": "python",
   "nbconvert_exporter": "python",
   "pygments_lexer": "ipython3",
   "version": "3.9.13"
  }
 },
 "nbformat": 4,
 "nbformat_minor": 5
}
