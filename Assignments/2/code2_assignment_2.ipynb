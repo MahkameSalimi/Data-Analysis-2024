{
 "cells": [
  {
   "cell_type": "markdown",
   "id": "26af3db4",
   "metadata": {},
   "source": [
    "### Package Versions\n",
    "\n",
    "- **Python version**: `3.9.13`\n",
    "- **NumPy version**: `1.23.5`\n",
    "- **Matplotlib version**: `3.4.2`\n",
    "- **SciPy version**: `1.9.1`\n",
    "- **Pandas version**: `1.5.3`\n",
    "\n"
   ]
  },
  {
   "cell_type": "code",
   "id": "3d52d2d2",
   "metadata": {
    "ExecuteTime": {
     "end_time": "2024-10-14T21:12:01.062412Z",
     "start_time": "2024-10-14T21:11:59.844907Z"
    }
   },
   "source": [
    "# Import the necessary libraries\n",
    "import numpy as np # For calculations\n",
    "import matplotlib.pyplot as plt # For plotting \n",
    "from scipy.optimize import curve_fit # For curve fitting\n",
    "from matplotlib.ticker import (MultipleLocator, FormatStrFormatter,AutoMinorLocator) #make plot nicer\n",
    "import pandas as pd # For reading the data\n",
    "import os #For flexible path way to data"
   ],
   "outputs": [],
   "execution_count": 2
  },
  {
   "cell_type": "code",
   "id": "8f4ebccf",
   "metadata": {
    "ExecuteTime": {
     "end_time": "2024-10-14T21:12:01.100120Z",
     "start_time": "2024-10-14T21:12:01.071424Z"
    }
   },
   "source": [
    "# Define the path in a more flexible way\n",
    "root_folder = os.getcwd()\n",
    "data_file = os.path.join(root_folder, 'pressureRatio.dat')\n",
    "#Read data file using pandas package\n",
    "data = pd.read_csv(data_file, delim_whitespace=True )\n",
    "columns_title =data.columns\n",
    "print(\"Column tiltes\", columns_title)\n",
    "data.head()"
   ],
   "outputs": [
    {
     "name": "stdout",
     "output_type": "stream",
     "text": [
      "Column tiltes Index(['Num', 'Radius', 'R_e+', 'R_e-', 'E1', 'E1_e+', 'E1_e-', 'E2', 'E2_e+',\n",
      "       'E2_e+.1', 'ratio', 'r_e+', 'r_e-'],\n",
      "      dtype='object')\n"
     ]
    },
    {
     "data": {
      "text/plain": [
       "   Num  Radius  R_e+  R_e-     E1  E1_e+  E1_e-     E2  E2_e+  E2_e+.1  ratio  \\\n",
       "0    1   221.1  11.0  12.3   8.30   0.76   0.88   9.67   1.14     1.12   0.86   \n",
       "1    2   268.5  22.1  20.7   4.92   0.77   0.70   4.19   0.82     0.70   1.17   \n",
       "2    3   138.4  12.7  11.9   3.03   0.53   0.49   2.61   0.59     0.49   1.16   \n",
       "3    4   714.3  23.5  34.5  49.61   3.15   3.19  60.62   4.84     6.13   0.82   \n",
       "4    5   182.3  18.5  15.1   2.75   0.49   0.43   3.30   0.81     0.61   0.83   \n",
       "\n",
       "   r_e+  r_e-  \n",
       "0  0.08  0.07  \n",
       "1  0.16  0.15  \n",
       "2  0.20  0.18  \n",
       "3  0.06  0.05  \n",
       "4  0.14  0.14  "
      ],
      "text/html": [
       "<div>\n",
       "<style scoped>\n",
       "    .dataframe tbody tr th:only-of-type {\n",
       "        vertical-align: middle;\n",
       "    }\n",
       "\n",
       "    .dataframe tbody tr th {\n",
       "        vertical-align: top;\n",
       "    }\n",
       "\n",
       "    .dataframe thead th {\n",
       "        text-align: right;\n",
       "    }\n",
       "</style>\n",
       "<table border=\"1\" class=\"dataframe\">\n",
       "  <thead>\n",
       "    <tr style=\"text-align: right;\">\n",
       "      <th></th>\n",
       "      <th>Num</th>\n",
       "      <th>Radius</th>\n",
       "      <th>R_e+</th>\n",
       "      <th>R_e-</th>\n",
       "      <th>E1</th>\n",
       "      <th>E1_e+</th>\n",
       "      <th>E1_e-</th>\n",
       "      <th>E2</th>\n",
       "      <th>E2_e+</th>\n",
       "      <th>E2_e+.1</th>\n",
       "      <th>ratio</th>\n",
       "      <th>r_e+</th>\n",
       "      <th>r_e-</th>\n",
       "    </tr>\n",
       "  </thead>\n",
       "  <tbody>\n",
       "    <tr>\n",
       "      <th>0</th>\n",
       "      <td>1</td>\n",
       "      <td>221.1</td>\n",
       "      <td>11.0</td>\n",
       "      <td>12.3</td>\n",
       "      <td>8.30</td>\n",
       "      <td>0.76</td>\n",
       "      <td>0.88</td>\n",
       "      <td>9.67</td>\n",
       "      <td>1.14</td>\n",
       "      <td>1.12</td>\n",
       "      <td>0.86</td>\n",
       "      <td>0.08</td>\n",
       "      <td>0.07</td>\n",
       "    </tr>\n",
       "    <tr>\n",
       "      <th>1</th>\n",
       "      <td>2</td>\n",
       "      <td>268.5</td>\n",
       "      <td>22.1</td>\n",
       "      <td>20.7</td>\n",
       "      <td>4.92</td>\n",
       "      <td>0.77</td>\n",
       "      <td>0.70</td>\n",
       "      <td>4.19</td>\n",
       "      <td>0.82</td>\n",
       "      <td>0.70</td>\n",
       "      <td>1.17</td>\n",
       "      <td>0.16</td>\n",
       "      <td>0.15</td>\n",
       "    </tr>\n",
       "    <tr>\n",
       "      <th>2</th>\n",
       "      <td>3</td>\n",
       "      <td>138.4</td>\n",
       "      <td>12.7</td>\n",
       "      <td>11.9</td>\n",
       "      <td>3.03</td>\n",
       "      <td>0.53</td>\n",
       "      <td>0.49</td>\n",
       "      <td>2.61</td>\n",
       "      <td>0.59</td>\n",
       "      <td>0.49</td>\n",
       "      <td>1.16</td>\n",
       "      <td>0.20</td>\n",
       "      <td>0.18</td>\n",
       "    </tr>\n",
       "    <tr>\n",
       "      <th>3</th>\n",
       "      <td>4</td>\n",
       "      <td>714.3</td>\n",
       "      <td>23.5</td>\n",
       "      <td>34.5</td>\n",
       "      <td>49.61</td>\n",
       "      <td>3.15</td>\n",
       "      <td>3.19</td>\n",
       "      <td>60.62</td>\n",
       "      <td>4.84</td>\n",
       "      <td>6.13</td>\n",
       "      <td>0.82</td>\n",
       "      <td>0.06</td>\n",
       "      <td>0.05</td>\n",
       "    </tr>\n",
       "    <tr>\n",
       "      <th>4</th>\n",
       "      <td>5</td>\n",
       "      <td>182.3</td>\n",
       "      <td>18.5</td>\n",
       "      <td>15.1</td>\n",
       "      <td>2.75</td>\n",
       "      <td>0.49</td>\n",
       "      <td>0.43</td>\n",
       "      <td>3.30</td>\n",
       "      <td>0.81</td>\n",
       "      <td>0.61</td>\n",
       "      <td>0.83</td>\n",
       "      <td>0.14</td>\n",
       "      <td>0.14</td>\n",
       "    </tr>\n",
       "  </tbody>\n",
       "</table>\n",
       "</div>"
      ]
     },
     "execution_count": 3,
     "metadata": {},
     "output_type": "execute_result"
    }
   ],
   "execution_count": 3
  },
  {
   "metadata": {},
   "cell_type": "markdown",
   "source": [
    "### Section a)\n",
    "\n",
    "For calculating the wighted average for the data set $\\{x_1,\\cdots,x_N\\}$, such that $x_i$ has uncertainty $\\sigma_i$; we require to define some wight for $x_i$ such as\n",
    "$$ w_i =\\frac{1}{\\sigma^2}, \\sigma^2 = \\frac{r_{e+}+r_{e-}}{2}$$\n",
    "then according to the definition the wighted average will be \n",
    "$$ \\bar{x} = \\frac{\\sum_{i=1}^{N}x_i\\times w_i}{\\sum_{i=1}^{N} w_i}.$$\n",
    "\n",
    "The \n",
    "\n"
   ],
   "id": "1ab7775a88c2d7e1"
  },
  {
   "cell_type": "code",
   "id": "8fd2a178",
   "metadata": {
    "ExecuteTime": {
     "end_time": "2024-10-14T22:04:38.743028Z",
     "start_time": "2024-10-14T22:04:38.738245Z"
    }
   },
   "source": [
    "# Function to calculate weighted average and standard deviation\n",
    "def weighted_average_std(u_bound, l_bound, data):\n",
    "    '''u_bound and l_bound are lists of floats given by input data set\n",
    "    data is given list of float numbers that are given in each column\n",
    "    output: float numbers average wighted and Standard deviation'''\n",
    "    sigma2 = ((u_bound+l_bound)/2)**2 # Average the asymmetric errors\n",
    "    weight = 1/sigma2\n",
    "    return np.sum(data*weight)/np.sum(weight) , np.sqrt(1/np.sum(weight))\n",
    "# Weighted average and standard deviation for 'ratio'\n",
    "weighted_avg ,weighted_std  = weighted_average_std(data['r_e+'],data['r_e-'],data['ratio'])\n",
    "# Print the result\n",
    "print(f\"Weighted Average of ratio: {weighted_avg :.2f} ± {weighted_std:.2f}\")"
   ],
   "outputs": [
    {
     "name": "stdout",
     "output_type": "stream",
     "text": [
      "Weighted Average of ratio: 0.90 ± 0.02\n"
     ]
    }
   ],
   "execution_count": 11
  },
  {
   "metadata": {},
   "cell_type": "markdown",
   "source": [
    "### Section b)\n",
    "The linear averaging is the unweighted averaging. So , the Linear average of the data set will be:\n",
    "$$\\bar{x} = \\frac{\\sum_{i=1}^{N} x_i}{N}.$$\n",
    "\n",
    "The standard deviation of the linear average is simply the square root of the sum of the squared individual uncertainties, divided by the number of data points.\n",
    "$$ \\sigma_{linear} = \\sqrt{\\frac{1}{N^2}\\sum_{i=1}^N \\sigma_i^2} $$\n"
   ],
   "id": "b200384cecaaf8af"
  },
  {
   "metadata": {
    "ExecuteTime": {
     "end_time": "2024-10-14T21:57:26.179238Z",
     "start_time": "2024-10-14T21:57:26.174330Z"
    }
   },
   "cell_type": "code",
   "source": [
    "#linear averaging\n",
    "def Linear_average(u_bound, l_bound, data):\n",
    "    Linear_average = np.mean(data) # Mean of Data\n",
    "    Linear_std = np.sqrt(np.mean(((u_bound+l_bound)/2)**2)) # mean of the averaged uncertainties\n",
    "    return Linear_average, Linear_std\n",
    "\n",
    "# Linear average and standard deviation for 'ratio'\n",
    "linear_avg ,linear_std  = Linear_average(data['r_e+'],data['r_e-'],data['ratio'])\n",
    "# Print the result\n",
    "print(f\"Linear Average of ratio: {linear_avg :.2f} ± {linear_std:.2f}\")"
   ],
   "id": "be3be094c261ec5e",
   "outputs": [
    {
     "name": "stdout",
     "output_type": "stream",
     "text": [
      "Linear Average of ratio: 1.01 ± 0.14\n"
     ]
    }
   ],
   "execution_count": 7
  },
  {
   "metadata": {
    "ExecuteTime": {
     "end_time": "2024-10-14T22:04:46.493004Z",
     "start_time": "2024-10-14T22:04:46.383962Z"
    }
   },
   "cell_type": "code",
   "source": [
    "n = len (data['ratio']) # number of data points\n",
    "#Plot the data points with error bars\n",
    "plt.errorbar(range(n), data['ratio'], yerr=[data['r_e-'], data['r_e+']], fmt='o', label='Data with uncertainties', color='blue', ecolor='lightgray')\n",
    "\n",
    "# Plot the linear average line with its uncertainty band\n",
    "plt.axhline(y=linear_avg, color='red', linestyle='--', label=f'Linear Average: {linear_avg:.2f}')\n",
    "plt.fill_between(range(n), linear_avg - linear_std, linear_avg +linear_std, color='red', alpha=0.2, label=f'Linear Avg Std: ±{linear_std:.2f}')\n",
    "\n",
    "#Plot the weighted average line with its uncertainty band\n",
    "plt.axhline(y=weighted_avg, color='green', linestyle='--', label=f'Weighted Average: {weighted_avg:.2f}')\n",
    "plt.fill_between(range(n), weighted_avg - weighted_std, weighted_avg + weighted_std, color='green', alpha=0.2, label=f'Weighted Avg Std: ±{weighted_std:.2f}')\n",
    "\n",
    "#Labeling the plot\n",
    "plt.xlabel('Measurement Index')\n",
    "plt.ylabel('Ratio')\n",
    "plt.title('Linear vs Weighted Average with Uncertainties')\n",
    "plt.legend()\n",
    "\n",
    "# Show the plot\n",
    "plt.show()"
   ],
   "id": "adc453dee7b2845b",
   "outputs": [
    {
     "data": {
      "text/plain": [
       "<Figure size 640x480 with 1 Axes>"
      ],
      "image/png": "[encoded data removed]"
     },
     "metadata": {},
     "output_type": "display_data"
    }
   ],
   "execution_count": 12
  },
  {
   "metadata": {},
   "cell_type": "markdown",
   "source": "",
   "id": "10b94fb2fa53f30c"
  },
  {
   "metadata": {},
   "cell_type": "markdown",
   "source": [
    "The linear average is often greater than the weighted average because the linear average gives equal importance to all values, including those with large uncertainties (which are often extreme). The weighted average, on the other hand, downweights these less reliable (extreme) values, resulting in a smaller overall average.\n",
    "In the weighted average, the extreme values with large uncertainties are downweighted, meaning they contribute less to the final result. This results in the weighted average being \"pulled\" towards the more reliable, lower-uncertainty data points, which are often closer to the center of the distribution (closer to the true value)."
   ],
   "id": "35fa8b36e87fb920"
  },
  {
   "metadata": {},
   "cell_type": "markdown",
   "source": "### Section c)\n",
   "id": "4f6b6e6cd9f3b66c"
  },
  {
   "metadata": {},
   "cell_type": "code",
   "outputs": [],
   "execution_count": null,
   "source": "",
   "id": "c449b85a478c3619"
  }
 ],
 "metadata": {
  "kernelspec": {
   "display_name": "Python 3 (ipykernel)",
   "language": "python",
   "name": "python3"
  },
  "language_info": {
   "codemirror_mode": {
    "name": "ipython",
    "version": 3
   },
   "file_extension": ".py",
   "mimetype": "text/x-python",
   "name": "python",
   "nbconvert_exporter": "python",
   "pygments_lexer": "ipython3",
   "version": "3.9.13"
  }
 },
 "nbformat": 4,
 "nbformat_minor": 5
}
